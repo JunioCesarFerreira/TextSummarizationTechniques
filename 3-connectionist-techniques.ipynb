{
 "cells": [
  {
   "cell_type": "markdown",
   "metadata": {},
   "source": [
    "# Abordagens Conexionistas na Sumarização de Textos\n",
    "\n",
    "Para explorar a sumarização de textos usando abordagens conexionistas, vamos focar em técnicas que envolvem redes neurais, especialmente modelos de aprendizado profundo que têm mostrado resultados promissores em várias tarefas de PLN, incluindo a sumarização. As abordagens conexionistas geralmente utilizam modelos pré-treinados ou redes treinadas do zero para entender e gerar sumários de textos.\n",
    "\n",
    "### Abordagens Conexionistas na Sumarização de Textos\n",
    "\n",
    "As técnicas conexionistas para sumarização baseiam-se em arquiteturas de rede neural complexas que podem aprender padrões linguísticos profundos e nuances semânticas dos dados. Vamos discutir três abordagens principais: modelos seq2seq, atenção e transformadores.\n",
    "\n",
    "#### 1. Modelos Seq2Seq com Atenção\n",
    "\n",
    "**Objetivo**: Traduzir um texto longo em um resumo mais curto mantendo os pontos principais, utilizando uma abordagem de sequência para sequência (seq2seq).\n",
    "\n",
    "**Componentes**:\n",
    "- **Encoder**: Uma rede neural recorrente (RNN, LSTM ou GRU) que processa o texto de entrada e codifica a informação em um vetor de contexto.\n",
    "- **Decoder**: Outra rede neural recorrente que gera o sumário a partir do vetor de contexto, potencialmente usando mecanismos de atenção para focar em partes relevantes do texto de entrada durante a geração do sumário.\n",
    "- **Mecanismo de Atenção**: Permite que o decoder foque em partes específicas da entrada enquanto gera cada palavra do sumário, melhorando a qualidade ao destacar informações pertinentes.\n",
    "\n",
    "#### 2. Transformadores\n",
    "\n",
    "**Objetivo**: Utilizar uma arquitetura baseada em atenção que dispensa recorrência, projetada para lidar com sequências de dados, proporcionando uma maneira eficiente de sumarizar textos.\n",
    "\n",
    "**Componentes**:\n",
    "- **Mecanismo de Atenção Multi-Cabeça**: Permite que o modelo foque simultaneamente em diferentes partes do texto para capturar nuances complexas.\n",
    "- **Blocos Encoder e Decoder**: Compostos por várias camadas de transformadores que processam o texto de entrada e geram o texto de saída, respectivamente.\n",
    "- **Feed-Forward Neural Networks**: Redes internas que ajudam a transformar os dados entre diferentes camadas do modelo.\n",
    "\n",
    "#### 3. Modelos de Aprendizado Profundo Pré-Treinados\n",
    "\n",
    "**Objetivo**: Utilizar modelos como BERT, GPT ou T5, que foram pré-treinados em grandes corpora de texto e podem ser finamente ajustados para a tarefa específica de sumarização.\n",
    "\n",
    "**Componentes**:\n",
    "- **Modelo Pré-Treinado**: Uma rede neural de grande escala treinada com uma grande variedade de dados de texto, capturando um amplo conhecimento linguístico.\n",
    "- **Fine-Tuning**: Ajuste do modelo pré-treinado em um corpus específico de sumarização ou diretamente em tarefas de sumarização para adaptar os conhecimentos gerais às necessidades específicas da sumarização.\n",
    "- **Camada de Saída Personalizada**: Dependendo do modelo e da tarefa, uma camada de saída é ajustada para gerar sumários adequados a partir do texto de entrada."
   ]
  },
  {
   "cell_type": "code",
   "execution_count": null,
   "metadata": {},
   "outputs": [
    {
     "name": "stdout",
     "output_type": "stream",
     "text": [
      "Sumário Conexionista:\n",
      " As descobertas científicas no campo da biologia molecular estão acelerando o desenvolvimento de novos tratamentos médicos. A IBM anunciou uma nova parceria estratégica with a Microsoft para explorar aplicações de inteligência artificial.\n"
     ]
    }
   ],
   "source": [
    "from transformers import BartTokenizer, BartForConditionalGeneration\n",
    "\n",
    "def summarize_with_bart(text):\n",
    "    tokenizer = BartTokenizer.from_pretrained('facebook/bart-large-cnn')\n",
    "    model = BartForConditionalGeneration.from_pretrained('facebook/bart-large-cnn')\n",
    "\n",
    "    inputs = tokenizer.encode(\"summarize: \" + text, return_tensors=\"pt\", max_length=1024, truncation=True)\n",
    "    summary_ids = model.generate(inputs, max_length=150, min_length=40, length_penalty=2.0, num_beams=4, early_stopping=True)\n",
    "    summary = tokenizer.decode(summary_ids[0], skip_special_tokens=True)\n",
    "\n",
    "    return summary\n",
    "\n",
    "# Exemplo de uso\n",
    "example_text = (\n",
    "    \"As descobertas científicas no campo da biologia molecular estão acelerando o desenvolvimento de novos tratamentos médicos. \"\n",
    "    \"Estes avanços são particularmente notáveis no tratamento de doenças genéticas. A tecnologia de edição genética, como CRISPR, \"\n",
    "    \"revolucionou a medicina moderna. Além disso, a Intel lançou um novo processador que promete avanços significativos em termos \"\n",
    "    \"de capacidade de computação e eficiência energética. A IBM anunciou uma nova parceria estratégica com a Microsoft para explorar \"\n",
    "    \"aplicações de inteligência artificial em larga escala. Essas parcerias estão moldando o futuro das tecnologias de informação. \"\n",
    "    \"Enquanto isso, em um estudo recente, pesquisadores descobriram um novo vírus que parece ter origem desconhecida, o que levanta \"\n",
    "    \"preocupações sobre possíveis ameaças à saúde global. Outras pesquisas, no entanto, sugerem que o impacto desse vírus pode ser \"\n",
    "    \"limitado a áreas específicas. As empresas de tecnologia continuam a impulsionar inovações, com muitas startups focadas no \"\n",
    "    \"desenvolvimento de soluções sustentáveis para problemas ambientais.\"\n",
    ")\n",
    "summary = summarize_with_bart(example_text)\n",
    "print(\"Sumário Conexionista:\\n\", summary)\n"
   ]
  }
 ],
 "metadata": {
  "kernelspec": {
   "display_name": "Python 3",
   "language": "python",
   "name": "python3"
  },
  "language_info": {
   "codemirror_mode": {
    "name": "ipython",
    "version": 3
   },
   "file_extension": ".py",
   "mimetype": "text/x-python",
   "name": "python",
   "nbconvert_exporter": "python",
   "pygments_lexer": "ipython3",
   "version": "3.12.1"
  }
 },
 "nbformat": 4,
 "nbformat_minor": 2
}
