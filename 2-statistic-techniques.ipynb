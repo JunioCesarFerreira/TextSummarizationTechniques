{
 "cells": [
  {
   "cell_type": "markdown",
   "metadata": {},
   "source": [
    "# Abordagens Estatísticas na Sumarização de Textos\n",
    "\n",
    "A sumarização estatística utiliza métodos estatísticos para analisar a importância das palavras e sentenças em um texto, baseando-se em sua frequência e distribuição. Essas técnicas são especialmente úteis para identificar partes significativas do texto sem a necessidade de compreender sua estrutura linguística profunda.\n",
    "\n",
    "Neste notebook, exploramos três abordagens estatísticas principais para a sumarização de textos:\n",
    "\n",
    "### 1. Baseada em Frequência de Palavras\n",
    "\n",
    "**Objetivo**: Identificar e extrair as partes mais relevantes do texto com base na frequência de ocorrência das palavras.\n",
    "\n",
    "**Componentes**:\n",
    "- **Módulo de Análise de Texto**: Decompõe o texto em palavras e calcula a frequência de cada termo.\n",
    "- **Banco de Frequências**: Armazena as contagens de frequência de todas as palavras do documento.\n",
    "- **Mecanismo de Seleção**: Seleciona sentenças que contêm uma alta concentração das palavras mais frequentes.\n",
    "\n",
    "**Exemplo de Uso**: Extrair sentenças que contêm palavras que aparecem com alta frequência, indicando sua centralidade no texto.\n",
    "\n",
    "### 2. Baseada em TF-IDF\n",
    "\n",
    "**Objetivo**: Utilizar o método TF-IDF para diferenciar palavras que são importantes em um documento específico em relação a um corpus maior.\n",
    "\n",
    "**Componentes**:\n",
    "- **Módulo de Análise de Texto**: Analisa o texto e calcula o TF-IDF para cada palavra em cada sentença.\n",
    "- **Banco de TF-IDF**: Armazena os valores de TF-IDF para todas as palavras nos documentos.\n",
    "- **Mecanismo de Inferência**: Determina a relevância das sentenças com base nos valores acumulados de TF-IDF.\n",
    "\n",
    "**Exemplo de Uso**: Sentenças que contêm palavras com alto valor de TF-IDF são consideradas importantes e selecionadas para o sumário.\n",
    "\n",
    "### 3. Baseada em Análise de Tópicos\n",
    "\n",
    "**Objetivo**: Identificar e resumir os principais tópicos presentes em um texto usando técnicas como LSA ou LDA para descobrir padrões semânticos.\n",
    "\n",
    "**Componentes**:\n",
    "- **Modelagem de Tópicos**: Aplica técnicas como LSA ou LDA para extrair tópicos dominantes do texto.\n",
    "- **Banco de Tópicos**: Armazena informações sobre os tópicos identificados e suas associações com partes do texto.\n",
    "- **Mecanismo de Seleção de Sentenças**: Escolhe sentenças que representam de forma mais eficaz os tópicos predominantes.\n",
    "\n",
    "**Exemplo de Uso**: Selecionar sentenças que encapsulem a essência dos tópicos mais relevantes, proporcionando um sumário abrangente dos principais temas do documento.\n",
    "\n",
    "Cada uma dessas abordagens utiliza diferentes medidas estatísticas para avaliar a importância do texto, oferecendo várias ferramentas para lidar com a complexidade e a diversidade dos documentos. A escolha da técnica depende do tipo de texto, da necessidade de profundidade na análise e da disponibilidade de recursos computacionais.\n"
   ]
  },
  {
   "cell_type": "markdown",
   "metadata": {},
   "source": [
    "## 0. Consideração sobre NLTK\n",
    "\n",
    "O trecho de código a seguir realiza o download dos pacotes de *stopwords* e pontuação. Verificamos na sequência as 10 primeiras *stopwords* do pacote em português."
   ]
  },
  {
   "cell_type": "code",
   "execution_count": 1,
   "metadata": {},
   "outputs": [
    {
     "data": {
      "text/plain": [
       "['a',\n",
       " 'à',\n",
       " 'ao',\n",
       " 'aos',\n",
       " 'aquela',\n",
       " 'aquelas',\n",
       " 'aquele',\n",
       " 'aqueles',\n",
       " 'aquilo',\n",
       " 'as']"
      ]
     },
     "execution_count": 1,
     "metadata": {},
     "output_type": "execute_result"
    }
   ],
   "source": [
    "import nltk\n",
    "\n",
    "nltk.download('stopwords', quiet=True)\n",
    "nltk.download('punkt', quiet=True)\n",
    "\n",
    "stopwords = nltk.corpus.stopwords.words('portuguese')\n",
    "\n",
    "stopwords[:10]"
   ]
  },
  {
   "cell_type": "markdown",
   "metadata": {},
   "source": [
    "## 1. Abordagem Baseada na Frequência das Palavras\n",
    "\n",
    "O exemplo a seguir demonstra como identificar e extrair as partes mais relevantes do texto com base na frequência de ocorrência das palavras.\n",
    "Temos os seguintes elementos na implementação:\n",
    "1. **Módulo de Análise de Texto**: O texto é primeiro dividido em sentenças e em palavras. As palavras são filtradas para remover stopwords e palavras não alfabéticas para focar em termos significativos.\n",
    "2. **Banco de Frequências**: As frequências das palavras são calculadas e armazenadas em um Counter do módulo collections, que basicamente cria um dicionário de frequências.\n",
    "3. **Mecanismo de Seleção**: Cada sentença é avaliada pela soma das frequências de suas palavras. As sentenças com os maiores scores são selecionadas para formar o sumário."
   ]
  },
  {
   "cell_type": "code",
   "execution_count": 2,
   "metadata": {},
   "outputs": [
    {
     "name": "stdout",
     "output_type": "stream",
     "text": [
      "Sumário Baseado na Frequência de Palavras:\n",
      " A integração da IA em vários setores, como saúde, finanças e educação, demonstrou benefícios significativos em termos de eficiência e produtividade. Essas questões \n",
      "precisam ser abordadas para garantir que os benefícios das tecnologias de IA sejam maximizados enquanto minimiza impactos negativos. No entanto, \n",
      "também existem preocupações sobre privacidade, segurança e o deslocamento de empregos devido à automação.\n"
     ]
    }
   ],
   "source": [
    "from nltk.corpus import stopwords\n",
    "from nltk.tokenize import word_tokenize, sent_tokenize\n",
    "import collections\n",
    "\n",
    "def summarize_text_by_word_frequency(text, num_sentences=3, language='portuguese'):\n",
    "    # Tokeniza o texto em sentenças\n",
    "    sentences = sent_tokenize(text, language=language)\n",
    "    \n",
    "    # Tokeniza o texto em palavras e remove stopwords e palavras não alfabéticas\n",
    "    words = [word.lower() for word in word_tokenize(text, language=language)\n",
    "             if word.isalpha() and word.lower() not in stopwords.words(language)]\n",
    "    \n",
    "    # Calcula a frequência de cada palavra\n",
    "    word_frequencies = collections.Counter(words)\n",
    "    \n",
    "    # Calcula os scores de cada sentença baseando-se na soma das frequências das palavras que contém\n",
    "    sentence_scores = {}\n",
    "    for sentence in sentences:\n",
    "        sentence_words = word_tokenize(sentence, language=language)\n",
    "        score = 0\n",
    "        for word in sentence_words:\n",
    "            if word.lower() in word_frequencies:\n",
    "                score += word_frequencies[word.lower()]\n",
    "        sentence_scores[sentence] = score\n",
    "    \n",
    "    # Ordena as sentenças pelo score e seleciona as num_sentences mais altas\n",
    "    selected_sentences = sorted(sentence_scores, key=sentence_scores.get, reverse=True)[:num_sentences]\n",
    "    \n",
    "    # Monta o sumário\n",
    "    summary = ' '.join(selected_sentences)\n",
    "    return summary\n",
    "\n",
    "# Exemplo de uso\n",
    "example_text = \"\"\"\n",
    "A inteligência artificial e o aprendizado de máquina estão transformando muitas indústrias. À medida que essas tecnologias evoluem, \n",
    "seu impacto na economia continua a crescer. A integração da IA em vários setores, como saúde, finanças e educação, demonstrou benefícios significativos em termos de eficiência e produtividade. No entanto, \n",
    "também existem preocupações sobre privacidade, segurança e o deslocamento de empregos devido à automação. Essas questões \n",
    "precisam ser abordadas para garantir que os benefícios das tecnologias de IA sejam maximizados enquanto minimiza impactos negativos.\n",
    "\"\"\"\n",
    "summary = summarize_text_by_word_frequency(example_text)\n",
    "print(\"Sumário Baseado na Frequência de Palavras:\\n\", summary)\n"
   ]
  },
  {
   "cell_type": "markdown",
   "metadata": {},
   "source": [
    "## 2. Abordagem Baseada em TF-IDF\n",
    "\n",
    "No exemplo de sumarização de texto utilizando o método TF-IDF, utilizamos a biblioteca scikit-learn, que fornece uma implementação eficiente de TF-IDF através do TfidfVectorizer.\n",
    "\n",
    "1. **Módulo de Análise de Texto**: O texto é primeiramente dividido em sentenças usando sent_tokenize do NLTK, permitindo uma análise mais granular.\n",
    "2. **Banco de TF-IDF**: Utilizamos TfidfVectorizer do scikit-learn para construir a matriz TF-IDF. Esta ferramenta também permite especificar stopwords em português, o que ajuda a filtrar palavras comuns e focar nos termos que realmente contribuem para a singularidade de cada sentença dentro do documento.\n",
    "3. **Mecanismo de Inferência**: O score de cada sentença é calculado como a soma de seus valores TF-IDF. Sentenças com os maiores scores são consideradas as mais informativas e são escolhidas para compor o sumário."
   ]
  },
  {
   "cell_type": "code",
   "execution_count": 3,
   "metadata": {},
   "outputs": [
    {
     "name": "stdout",
     "output_type": "stream",
     "text": [
      "Sumário Baseado em TF-IDF:\n",
      " A integração da IA em vários setores, como saúde, finanças e educação, demonstrou benefícios significativos em termos de eficiência e produtividade. Essas questões \n",
      "precisam ser abordadas para garantir que os benefícios das tecnologias de IA sejam maximizados enquanto minimiza impactos negativos. No entanto, \n",
      "também existem preocupações sobre privacidade, segurança e o deslocamento de empregos devido à automação.\n"
     ]
    }
   ],
   "source": [
    "from sklearn.feature_extraction.text import TfidfVectorizer\n",
    "from nltk.tokenize import sent_tokenize\n",
    "import numpy as np\n",
    "\n",
    "def summarize_text_by_tfidf(text, num_sentences=3, language='portuguese'):\n",
    "    # Tokeniza o texto em sentenças\n",
    "    sentences = sent_tokenize(text, language=language)\n",
    "\n",
    "    # Cria uma instância de TfidfVectorizer, especificando a língua portuguesa para stopwords\n",
    "    tfidf_vectorizer = TfidfVectorizer(stop_words=stopwords.words(language))\n",
    "\n",
    "    # Calcula a matriz TF-IDF para as sentenças\n",
    "    tfidf_matrix = tfidf_vectorizer.fit_transform(sentences)\n",
    "\n",
    "    # Calcula a soma dos valores TF-IDF para cada sentença\n",
    "    sentence_scores = np.sum(tfidf_matrix.toarray(), axis=1)\n",
    "\n",
    "    # Ordena as sentenças de acordo com seus scores e seleciona as mais relevantes\n",
    "    sorted_indices = np.argsort(sentence_scores)[::-1]\n",
    "    selected_sentences = [sentences[idx] for idx in sorted_indices[:num_sentences]]\n",
    "\n",
    "    # Compila o sumário\n",
    "    summary = ' '.join(selected_sentences)\n",
    "    return summary\n",
    "\n",
    "# Exemplo de uso\n",
    "example_text = \"\"\"\n",
    "A inteligência artificial e o aprendizado de máquina estão transformando muitas indústrias. À medida que essas tecnologias evoluem, \n",
    "seu impacto na economia continua a crescer. A integração da IA em vários setores, como saúde, finanças e educação, demonstrou benefícios significativos em termos de eficiência e produtividade. No entanto, \n",
    "também existem preocupações sobre privacidade, segurança e o deslocamento de empregos devido à automação. Essas questões \n",
    "precisam ser abordadas para garantir que os benefícios das tecnologias de IA sejam maximizados enquanto minimiza impactos negativos.\n",
    "\"\"\"\n",
    "summary = summarize_text_by_tfidf(example_text)\n",
    "print(\"Sumário Baseado em TF-IDF:\\n\", summary)\n"
   ]
  },
  {
   "cell_type": "markdown",
   "metadata": {},
   "source": [
    "## 3. Abordagem Baseada em LSA\n",
    "\n",
    "Para desenvolver um exemplo de sumarização de texto que utiliza técnicas de modelagem de tópicos como Latent Semantic Analysis (LSA) ou Latent Dirichlet Allocation (LDA), podemos utilizar a biblioteca gensim para LDA ou scikit-learn para LSA. Vamos criar um exemplo usando LSA com scikit-learn, pois oferece uma integração simples com as outras ferramentas de processamento de texto.\n",
    "\n",
    "1. **Modelagem de Tópicos**: Utiliza o TruncatedSVD, uma técnica para reduzir a dimensionalidade, aplicada à matriz TF-IDF das sentenças para extrair componentes latentes que representam tópicos no texto.\n",
    "2. **Banco de Tópicos**: O fit_transform do pipeline de LSA produz uma representação dos tópicos que é armazenada em dtm_lsa.\n",
    "3. **Mecanismo de Seleção de Sentenças**: As sentenças são escolhidas com base em sua associação com os principais componentes (tópicos) identificados, selecionando as que têm as maiores contribuições para o primeiro componente latente."
   ]
  },
  {
   "cell_type": "code",
   "execution_count": 4,
   "metadata": {},
   "outputs": [
    {
     "name": "stdout",
     "output_type": "stream",
     "text": [
      "Sumário Baseado em LSA:\n",
      " Essas questões \n",
      "precisam ser abordadas para garantir que os benefícios das tecnologias de IA sejam maximizados enquanto minimiza impactos negativos. A integração da IA em vários setores, como saúde, finanças e educação, demonstrou benefícios significativos em termos de eficiência e produtividade. À medida que essas tecnologias evoluem, \n",
      "seu impacto na economia continua a crescer.\n"
     ]
    }
   ],
   "source": [
    "from sklearn.decomposition import TruncatedSVD\n",
    "from sklearn.feature_extraction.text import TfidfVectorizer\n",
    "from sklearn.pipeline import make_pipeline\n",
    "from sklearn.preprocessing import Normalizer\n",
    "from nltk.tokenize import sent_tokenize\n",
    "\n",
    "def summarize_text_by_lsa(text, num_topics=1, num_sentences=3, language='portuguese'):\n",
    "    # Tokeniza o texto em sentenças\n",
    "    sentences = sent_tokenize(text, language=language)\n",
    "    \n",
    "    # Cria uma instância de TfidfVectorizer, especificando a língua portuguesa para stopwords\n",
    "    tfidf_vectorizer = TfidfVectorizer(stop_words=stopwords.words(language))\n",
    "        \n",
    "    # Calcula a matriz TF-IDF para as sentenças\n",
    "    dtm = tfidf_vectorizer.fit_transform(sentences)\n",
    "        \n",
    "    # Configura o modelo LSA usando SVD truncado\n",
    "    svd_model = TruncatedSVD(n_components=num_topics)\n",
    "    lsa = make_pipeline(svd_model, Normalizer(copy=False))\n",
    "    \n",
    "    # Aplica LSA ao modelo DTM\n",
    "    dtm_lsa = lsa.fit_transform(dtm)\n",
    "    \n",
    "    # Encontra as sentenças mais representativas para cada tópico\n",
    "    sorted_indices = dtm_lsa[:, 0].argsort()[::-1]\n",
    "    selected_sentences = [sentences[idx] for idx in sorted_indices[:num_sentences]]\n",
    "    \n",
    "    # Compila o sumário\n",
    "    summary = ' '.join(selected_sentences)\n",
    "    return summary\n",
    "\n",
    "# Exemplo de uso\n",
    "example_text = \"\"\"\n",
    "A inteligência artificial e o aprendizado de máquina estão transformando muitas indústrias. À medida que essas tecnologias evoluem, \n",
    "seu impacto na economia continua a crescer. A integração da IA em vários setores, como saúde, finanças e educação, demonstrou benefícios significativos em termos de eficiência e produtividade. No entanto, \n",
    "também existem preocupações sobre privacidade, segurança e o deslocamento de empregos devido à automação. Essas questões \n",
    "precisam ser abordadas para garantir que os benefícios das tecnologias de IA sejam maximizados enquanto minimiza impactos negativos.\n",
    "\"\"\"\n",
    "summary = summarize_text_by_lsa(example_text)\n",
    "print(\"Sumário Baseado em LSA:\\n\", summary)\n"
   ]
  },
  {
   "cell_type": "markdown",
   "metadata": {},
   "source": [
    "## 4. Análise Comparativa"
   ]
  },
  {
   "cell_type": "code",
   "execution_count": 5,
   "metadata": {},
   "outputs": [
    {
     "name": "stdout",
     "output_type": "stream",
     "text": [
      "Resumo Baseado em Frequência:\n",
      "Enquanto isso, em um estudo recente, pesquisadores descobriram um novo vírus que parece ter origem desconhecida, o que levanta preocupações sobre possíveis ameaças à saúde global. Além disso, a Intel lançou um novo processador que promete avanços significativos em termos de capacidade de computação e eficiência energética. As empresas de tecnologia continuam a impulsionar inovações, com muitas startups focadas no desenvolvimento de soluções sustentáveis para problemas ambientais.\n",
      "\n",
      "Resumo Baseado em TF-IDF:\n",
      "Enquanto isso, em um estudo recente, pesquisadores descobriram um novo vírus que parece ter origem desconhecida, o que levanta preocupações sobre possíveis ameaças à saúde global. Além disso, a Intel lançou um novo processador que promete avanços significativos em termos de capacidade de computação e eficiência energética. As empresas de tecnologia continuam a impulsionar inovações, com muitas startups focadas no desenvolvimento de soluções sustentáveis para problemas ambientais.\n",
      "\n",
      "Resumo Baseado em LSA:\n",
      "As empresas de tecnologia continuam a impulsionar inovações, com muitas startups focadas no desenvolvimento de soluções sustentáveis para problemas ambientais. Enquanto isso, em um estudo recente, pesquisadores descobriram um novo vírus que parece ter origem desconhecida, o que levanta preocupações sobre possíveis ameaças à saúde global. A tecnologia de edição genética, como CRISPR, revolucionou a medicina moderna.\n",
      "\n",
      "Comparativo de tamanho dos textos\n",
      "\tTexto original:               1069\n",
      "\tResumo baseado em frequência: 484\n",
      "\tResumo baseado em TF-IDF:     484\n",
      "\tResumo baseado em LSA:        418\n"
     ]
    }
   ],
   "source": [
    "example_text = (\n",
    "    \"As descobertas científicas no campo da biologia molecular estão acelerando o desenvolvimento de novos tratamentos médicos. \"\n",
    "    \"Estes avanços são particularmente notáveis no tratamento de doenças genéticas. A tecnologia de edição genética, como CRISPR, \"\n",
    "    \"revolucionou a medicina moderna. Além disso, a Intel lançou um novo processador que promete avanços significativos em termos \"\n",
    "    \"de capacidade de computação e eficiência energética. A IBM anunciou uma nova parceria estratégica com a Microsoft para explorar \"\n",
    "    \"aplicações de inteligência artificial em larga escala. Essas parcerias estão moldando o futuro das tecnologias de informação. \"\n",
    "    \"Enquanto isso, em um estudo recente, pesquisadores descobriram um novo vírus que parece ter origem desconhecida, o que levanta \"\n",
    "    \"preocupações sobre possíveis ameaças à saúde global. Outras pesquisas, no entanto, sugerem que o impacto desse vírus pode ser \"\n",
    "    \"limitado a áreas específicas. As empresas de tecnologia continuam a impulsionar inovações, com muitas startups focadas no \"\n",
    "    \"desenvolvimento de soluções sustentáveis para problemas ambientais.\"\n",
    ")\n",
    "\n",
    "print(\"Resumo Baseado em Frequência:\")\n",
    "\n",
    "summary_word_freq = summarize_text_by_word_frequency(example_text)\n",
    "print(summary_word_freq)\n",
    "\n",
    "\n",
    "print(\"\\nResumo Baseado em TF-IDF:\")\n",
    "\n",
    "summary_tfidf = summarize_text_by_tfidf(example_text)\n",
    "print(summary_tfidf)\n",
    "\n",
    "\n",
    "print (\"\\nResumo Baseado em LSA:\")\n",
    "\n",
    "summary_lsa = summarize_text_by_lsa(example_text)\n",
    "print(summary_lsa)\n",
    "\n",
    "print(\"\\nComparativo de tamanho dos textos\")\n",
    "print(f\"\\tTexto original:               {len(example_text)}\")\n",
    "print(f\"\\tResumo baseado em frequência: {len(summary_word_freq)}\")\n",
    "print(f\"\\tResumo baseado em TF-IDF:     {len(summary_tfidf)}\")\n",
    "print(f\"\\tResumo baseado em LSA:        {len(summary_lsa)}\")"
   ]
  }
 ],
 "metadata": {
  "kernelspec": {
   "display_name": "Python 3",
   "language": "python",
   "name": "python3"
  },
  "language_info": {
   "codemirror_mode": {
    "name": "ipython",
    "version": 3
   },
   "file_extension": ".py",
   "mimetype": "text/x-python",
   "name": "python",
   "nbconvert_exporter": "python",
   "pygments_lexer": "ipython3",
   "version": "3.12.1"
  }
 },
 "nbformat": 4,
 "nbformat_minor": 2
}
